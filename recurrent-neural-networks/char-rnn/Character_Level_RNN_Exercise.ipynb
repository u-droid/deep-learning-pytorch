{
 "cells": [
  {
   "attachments": {},
   "cell_type": "markdown",
   "metadata": {},
   "source": [
    "# Character-Level LSTM in PyTorch\n",
    "\n",
    "In this notebook, I'll construct a character-level LSTM with PyTorch. The network will train character by character on some text, then generate new text character by character. As an example, I will train on Anna Karenina. **This model will be able to generate new text based on the text from the book!**\n",
    "\n",
    "This network is based off of Andrej Karpathy's [post on RNNs](http://karpathy.github.io/2015/05/21/rnn-effectiveness/) and [implementation in Torch](https://github.com/karpathy/char-rnn). Below is the general architecture of the character-wise RNN.\n",
    "\n",
    "<img src=\"assets/charseq.jpeg\" width=\"500\">"
   ]
  },
  {
   "attachments": {},
   "cell_type": "markdown",
   "metadata": {},
   "source": [
    "First let's load in our required resources for data loading and model creation."
   ]
  },
  {
   "cell_type": "code",
   "execution_count": 1,
   "metadata": {
    "collapsed": true
   },
   "outputs": [],
   "source": [
    "import numpy as np\n",
    "import torch\n",
    "from torch import nn\n",
    "import torch.nn.functional as F"
   ]
  },
  {
   "attachments": {},
   "cell_type": "markdown",
   "metadata": {},
   "source": [
    "## Load in Data\n",
    "\n",
    "Then, we'll load the Anna Karenina text file and convert it into integers for our network to use. "
   ]
  },
  {
   "cell_type": "code",
   "execution_count": 2,
   "metadata": {
    "collapsed": true
   },
   "outputs": [],
   "source": [
    "# open text file and read in data as `text`\n",
    "with open('data/anna.txt', 'r') as f:\n",
    "    text = f.read()"
   ]
  },
  {
   "attachments": {},
   "cell_type": "markdown",
   "metadata": {},
   "source": [
    "Let's check out the first 100 characters, make sure everything is peachy. According to the [American Book Review](http://americanbookreview.org/100bestlines.asp), this is the 6th best first line of a book ever."
   ]
  },
  {
   "cell_type": "code",
   "execution_count": 3,
   "metadata": {
    "collapsed": true
   },
   "outputs": [
    {
     "data": {
      "text/plain": [
       "'Chapter 1\\n\\n\\nHappy families are all alike; every unhappy family is unhappy in its own\\nway.\\n\\nEverythin'"
      ]
     },
     "execution_count": 3,
     "metadata": {},
     "output_type": "execute_result"
    }
   ],
   "source": [
    "text[:100]"
   ]
  },
  {
   "attachments": {},
   "cell_type": "markdown",
   "metadata": {},
   "source": [
    "### Tokenization\n",
    "\n",
    "In the cells, below, I'm creating a couple of **dictionaries** to convert the characters to and from integers. Encoding the characters as integers makes it easier to use as input in the network."
   ]
  },
  {
   "cell_type": "code",
   "execution_count": 4,
   "metadata": {
    "collapsed": true
   },
   "outputs": [],
   "source": [
    "# encode the text and map each character to an integer and vice versa\n",
    "\n",
    "# we create two dictionaries:\n",
    "# 1. int2char, which maps integers to characters\n",
    "# 2. char2int, which maps characters to unique integers\n",
    "chars = tuple(set(text))\n",
    "int2char = dict(enumerate(chars))\n",
    "char2int = {ch: ii for ii, ch in int2char.items()}\n",
    "\n",
    "# encode the text\n",
    "encoded = np.array([char2int[ch] for ch in text])"
   ]
  },
  {
   "attachments": {},
   "cell_type": "markdown",
   "metadata": {},
   "source": [
    "And we can see those same characters from above, encoded as integers."
   ]
  },
  {
   "cell_type": "code",
   "execution_count": 5,
   "metadata": {
    "collapsed": true
   },
   "outputs": [
    {
     "data": {
      "text/plain": [
       "array([56, 80,  0, 32, 81, 72, 78, 42,  5, 47, 47, 47, 60,  0, 32, 32, 70,\n",
       "       42, 34,  0,  1, 77, 24, 77, 72, 45, 42,  0, 78, 72, 42,  0, 24, 24,\n",
       "       42,  0, 24, 77, 71, 72, 61, 42, 72, 82, 72, 78, 70, 42, 41,  9, 80,\n",
       "        0, 32, 32, 70, 42, 34,  0,  1, 77, 24, 70, 42, 77, 45, 42, 41,  9,\n",
       "       80,  0, 32, 32, 70, 42, 77,  9, 42, 77, 81, 45, 42, 30, 67,  9, 47,\n",
       "       67,  0, 70, 10, 47, 47, 22, 82, 72, 78, 70, 81, 80, 77,  9])"
      ]
     },
     "execution_count": 5,
     "metadata": {},
     "output_type": "execute_result"
    }
   ],
   "source": [
    "encoded[:100]"
   ]
  },
  {
   "attachments": {},
   "cell_type": "markdown",
   "metadata": {},
   "source": [
    "## Pre-processing the data\n",
    "\n",
    "As you can see in our char-RNN image above, our LSTM expects an input that is **one-hot encoded** meaning that each character is converted into an integer (via our created dictionary) and *then* converted into a column vector where only it's corresponding integer index will have the value of 1 and the rest of the vector will be filled with 0's. Since we're one-hot encoding the data, let's make a function to do that!\n"
   ]
  },
  {
   "cell_type": "code",
   "execution_count": 6,
   "metadata": {
    "collapsed": true
   },
   "outputs": [],
   "source": [
    "def one_hot_encode(arr, n_labels):\n",
    "    \n",
    "    # Initialize the encoded array\n",
    "    one_hot = np.zeros((arr.size, n_labels), dtype=np.float32)\n",
    "    \n",
    "    # Fill the appropriate elements with ones\n",
    "    one_hot[np.arange(one_hot.shape[0]), arr.flatten()] = 1.\n",
    "    \n",
    "    # Finally reshape it to get back to the original array\n",
    "    one_hot = one_hot.reshape((*arr.shape, n_labels))\n",
    "    \n",
    "    return one_hot"
   ]
  },
  {
   "cell_type": "code",
   "execution_count": 7,
   "metadata": {
    "collapsed": true
   },
   "outputs": [
    {
     "name": "stdout",
     "output_type": "stream",
     "text": [
      "[[[0. 0. 0. 1. 0. 0. 0. 0.]\n",
      "  [0. 0. 0. 0. 0. 1. 0. 0.]\n",
      "  [0. 1. 0. 0. 0. 0. 0. 0.]]]\n"
     ]
    }
   ],
   "source": [
    "# check that the function works as expected\n",
    "test_seq = np.array([[3, 5, 1]])\n",
    "one_hot = one_hot_encode(test_seq, 8)\n",
    "\n",
    "print(one_hot)"
   ]
  },
  {
   "attachments": {},
   "cell_type": "markdown",
   "metadata": {},
   "source": [
    "## Making training mini-batches\n",
    "\n",
    "\n",
    "To train on this data, we also want to create mini-batches for training. Remember that we want our batches to be multiple sequences of some desired number of sequence steps. Considering a simple example, our batches would look like this:\n",
    "\n",
    "<img src=\"assets/sequence_batching@1x.png\" width=500px>\n",
    "\n",
    "\n",
    "<br>\n",
    "\n",
    "In this example, we'll take the encoded characters (passed in as the `arr` parameter) and split them into multiple sequences, given by `batch_size`. Each of our sequences will be `seq_length` long.\n",
    "\n",
    "### Creating Batches\n",
    "\n",
    "**1. The first thing we need to do is discard some of the text so we only have completely full mini-batches. **\n",
    "\n",
    "Each batch contains $N \\times M$ characters, where $N$ is the batch size (the number of sequences in a batch) and $M$ is the seq_length or number of time steps in a sequence. Then, to get the total number of batches, $K$, that we can make from the array `arr`, you divide the length of `arr` by the number of characters per batch. Once you know the number of batches, you can get the total number of characters to keep from `arr`, $N * M * K$.\n",
    "\n",
    "**2. After that, we need to split `arr` into $N$ batches. ** \n",
    "\n",
    "You can do this using `arr.reshape(size)` where `size` is a tuple containing the dimensions sizes of the reshaped array. We know we want $N$ sequences in a batch, so let's make that the size of the first dimension. For the second dimension, you can use `-1` as a placeholder in the size, it'll fill up the array with the appropriate data for you. After this, you should have an array that is $N \\times (M * K)$.\n",
    "\n",
    "**3. Now that we have this array, we can iterate through it to get our mini-batches. **\n",
    "\n",
    "The idea is each batch is a $N \\times M$ window on the $N \\times (M * K)$ array. For each subsequent batch, the window moves over by `seq_length`. We also want to create both the input and target arrays. Remember that the targets are just the inputs shifted over by one character. The way I like to do this window is use `range` to take steps of size `n_steps` from $0$ to `arr.shape[1]`, the total number of tokens in each sequence. That way, the integers you get from `range` always point to the start of a batch, and each window is `seq_length` wide.\n",
    "\n",
    "> **TODO:** Write the code for creating batches in the function below. The exercises in this notebook _will not be easy_. I've provided a notebook with solutions alongside this notebook. If you get stuck, checkout the solutions. The most important thing is that you don't copy and paste the code into here, **type out the solution code yourself.**"
   ]
  },
  {
   "cell_type": "code",
   "execution_count": 20,
   "metadata": {
    "collapsed": true
   },
   "outputs": [],
   "source": [
    "def get_batches(arr, batch_size, seq_length):\n",
    "    '''Create a generator that returns batches of size\n",
    "       batch_size x seq_length from arr.\n",
    "       \n",
    "       Arguments\n",
    "       ---------\n",
    "       arr: Array you want to make batches from\n",
    "       batch_size: Batch size, the number of sequences per batch\n",
    "       seq_length: Number of encoded chars in a sequence\n",
    "    '''\n",
    "    \n",
    "    ## TODO: Get the number of batches we can make\n",
    "    batch_size_total = batch_size * seq_length\n",
    "    n_batches = len(arr)//batch_size_total\n",
    "    \n",
    "    ## TODO: Keep only enough characters to make full batches\n",
    "    arr = arr[:batch_size*seq_length*n_batches]\n",
    "    \n",
    "    ## TODO: Reshape into batch_size rows\n",
    "    arr = arr.reshape((batch_size, -1))\n",
    "\n",
    "    # TODO: Iterate over the batches using a window of size seq_length\n",
    "    for n in range(0, arr.shape[1], seq_length):\n",
    "        try:\n",
    "            # The features\n",
    "            x = arr[:, n:n+seq_length]\n",
    "            # The targets, shifted by one\n",
    "            y = arr[:,n+1:n+seq_length+1]\n",
    "            yield x, y\n",
    "        except IndexError:\n",
    "            y = np.zeros_like(x)\n",
    "            y[:,:-1], y[:,-1] = arr[:,n+1:n+seq_length+1], arr[:,-1]"
   ]
  },
  {
   "cell_type": "code",
   "execution_count": 49,
   "metadata": {},
   "outputs": [],
   "source": [
    "def get_batches(arr, batch_size, seq_length):\n",
    "    '''Create a generator that returns batches of size\n",
    "       batch_size x seq_length from arr.\n",
    "       \n",
    "       Arguments\n",
    "       ---------\n",
    "       arr: Array you want to make batches from\n",
    "       batch_size: Batch size, the number of sequences per batch\n",
    "       seq_length: Number of encoded chars in a sequence\n",
    "    '''\n",
    "    \n",
    "    batch_size_total = batch_size * seq_length\n",
    "    # total number of batches we can make\n",
    "    n_batches = len(arr)//batch_size_total\n",
    "    \n",
    "    # Keep only enough characters to make full batches\n",
    "    arr = arr[:n_batches * batch_size_total]\n",
    "    # Reshape into batch_size rows\n",
    "    arr = arr.reshape((batch_size, -1))\n",
    "    \n",
    "    # iterate through the array, one sequence at a time\n",
    "    for n in range(0, arr.shape[1], seq_length):\n",
    "        # The features\n",
    "        x = arr[:, n:n+seq_length]\n",
    "        # The targets, shifted by one\n",
    "        y = np.zeros_like(x)\n",
    "        try:\n",
    "            y[:, :-1], y[:, -1] = x[:, 1:], arr[:, n+seq_length]\n",
    "        except IndexError:\n",
    "            y[:, :-1], y[:, -1] = x[:, 1:], arr[:, 0]\n",
    "        yield x, y"
   ]
  },
  {
   "attachments": {},
   "cell_type": "markdown",
   "metadata": {},
   "source": [
    "### Test Your Implementation\n",
    "\n",
    "Now I'll make some data sets and we can check out what's going on as we batch data. Here, as an example, I'm going to use a batch size of 8 and 50 sequence steps."
   ]
  },
  {
   "cell_type": "code",
   "execution_count": 50,
   "metadata": {
    "collapsed": true
   },
   "outputs": [],
   "source": [
    "batches = get_batches(encoded, 8, 50)\n",
    "x, y = next(batches)"
   ]
  },
  {
   "cell_type": "code",
   "execution_count": 51,
   "metadata": {
    "collapsed": true
   },
   "outputs": [
    {
     "name": "stdout",
     "output_type": "stream",
     "text": [
      "x\n",
      " [[56 80  0 32 81 72 78 42  5 47]\n",
      " [45 30  9 42 81 80  0 81 42  0]\n",
      " [72  9 39 42 30 78 42  0 42 34]\n",
      " [45 42 81 80 72 42 36 80 77 72]\n",
      " [42 45  0 67 42 80 72 78 42 81]\n",
      " [36 41 45 45 77 30  9 42  0  9]\n",
      " [42 59  9  9  0 42 80  0 39 42]\n",
      " [ 3 20 24 30  9 45 71 70 10 42]]\n",
      "\n",
      "y\n",
      " [[80  0 32 81 72 78 42  5 47 47]\n",
      " [30  9 42 81 80  0 81 42  0 81]\n",
      " [ 9 39 42 30 78 42  0 42 34 30]\n",
      " [42 81 80 72 42 36 80 77 72 34]\n",
      " [45  0 67 42 80 72 78 42 81 72]\n",
      " [41 45 45 77 30  9 42  0  9 39]\n",
      " [59  9  9  0 42 80  0 39 42 45]\n",
      " [20 24 30  9 45 71 70 10 42 21]]\n"
     ]
    }
   ],
   "source": [
    "# printing out the first 10 items in a sequence\n",
    "print('x\\n', x[:10, :10])\n",
    "print('\\ny\\n', y[:10, :10])"
   ]
  },
  {
   "attachments": {},
   "cell_type": "markdown",
   "metadata": {},
   "source": [
    "If you implemented `get_batches` correctly, the above output should look something like \n",
    "```\n",
    "x\n",
    " [[25  8 60 11 45 27 28 73  1  2]\n",
    " [17  7 20 73 45  8 60 45 73 60]\n",
    " [27 20 80 73  7 28 73 60 73 65]\n",
    " [17 73 45  8 27 73 66  8 46 27]\n",
    " [73 17 60 12 73  8 27 28 73 45]\n",
    " [66 64 17 17 46  7 20 73 60 20]\n",
    " [73 76 20 20 60 73  8 60 80 73]\n",
    " [47 35 43  7 20 17 24 50 37 73]]\n",
    "\n",
    "y\n",
    " [[ 8 60 11 45 27 28 73  1  2  2]\n",
    " [ 7 20 73 45  8 60 45 73 60 45]\n",
    " [20 80 73  7 28 73 60 73 65  7]\n",
    " [73 45  8 27 73 66  8 46 27 65]\n",
    " [17 60 12 73  8 27 28 73 45 27]\n",
    " [64 17 17 46  7 20 73 60 20 80]\n",
    " [76 20 20 60 73  8 60 80 73 17]\n",
    " [35 43  7 20 17 24 50 37 73 36]]\n",
    " ```\n",
    " although the exact numbers may be different. Check to make sure the data is shifted over one step for `y`."
   ]
  },
  {
   "attachments": {},
   "cell_type": "markdown",
   "metadata": {},
   "source": [
    "---\n",
    "## Defining the network with PyTorch\n",
    "\n",
    "Below is where you'll define the network.\n",
    "\n",
    "<img src=\"assets/charRNN.png\" width=500px>\n",
    "\n",
    "Next, you'll use PyTorch to define the architecture of the network. We start by defining the layers and operations we want. Then, define a method for the forward pass. You've also been given a method for predicting characters."
   ]
  },
  {
   "attachments": {},
   "cell_type": "markdown",
   "metadata": {},
   "source": [
    "### Model Structure\n",
    "\n",
    "In `__init__` the suggested structure is as follows:\n",
    "* Create and store the necessary dictionaries (this has been done for you)\n",
    "* Define an LSTM layer that takes as params: an input size (the number of characters), a hidden layer size `n_hidden`, a number of layers `n_layers`, a dropout probability `drop_prob`, and a batch_first boolean (True, since we are batching)\n",
    "* Define a dropout layer with `drop_prob`\n",
    "* Define a fully-connected layer with params: input size `n_hidden` and output size (the number of characters)\n",
    "* Finally, initialize the weights (again, this has been given)\n",
    "\n",
    "Note that some parameters have been named and given in the `__init__` function, and we use them and store them by doing something like `self.drop_prob = drop_prob`."
   ]
  },
  {
   "attachments": {},
   "cell_type": "markdown",
   "metadata": {},
   "source": [
    "---\n",
    "### LSTM Inputs/Outputs\n",
    "\n",
    "You can create a basic [LSTM layer](https://pytorch.org/docs/stable/nn.html#lstm) as follows\n",
    "\n",
    "```python\n",
    "self.lstm = nn.LSTM(input_size, n_hidden, n_layers, \n",
    "                            dropout=drop_prob, batch_first=True)\n",
    "```\n",
    "\n",
    "where `input_size` is the number of characters this cell expects to see as sequential input, and `n_hidden` is the number of units in the hidden layers in the cell. And we can add dropout by adding a dropout parameter with a specified probability; this will automatically add dropout to the inputs or outputs. Finally, in the `forward` function, we can stack up the LSTM cells into layers using `.view`. With this, you pass in a list of cells and it will send the output of one cell into the next cell.\n",
    "\n",
    "We also need to create an initial hidden state of all zeros. This is done like so\n",
    "\n",
    "```python\n",
    "self.init_hidden()\n",
    "```"
   ]
  },
  {
   "cell_type": "code",
   "execution_count": 23,
   "metadata": {
    "collapsed": true
   },
   "outputs": [
    {
     "name": "stdout",
     "output_type": "stream",
     "text": [
      "Training on GPU!\n"
     ]
    }
   ],
   "source": [
    "# check if GPU is available\n",
    "train_on_gpu = torch.cuda.is_available()\n",
    "if(train_on_gpu):\n",
    "    print('Training on GPU!')\n",
    "else: \n",
    "    print('No GPU available, training on CPU; consider making n_epochs very small.')"
   ]
  },
  {
   "cell_type": "code",
   "execution_count": 52,
   "metadata": {
    "collapsed": true
   },
   "outputs": [],
   "source": [
    "class CharRNN(nn.Module):\n",
    "    \n",
    "    def __init__(self, tokens, n_hidden=256, n_layers=2,\n",
    "                               drop_prob=0.5, lr=0.001):\n",
    "        super().__init__()\n",
    "        self.drop_prob = drop_prob\n",
    "        self.n_layers = n_layers\n",
    "        self.n_hidden = n_hidden\n",
    "        self.lr = lr\n",
    "        \n",
    "        # creating character dictionaries\n",
    "        self.chars = tokens\n",
    "        self.int2char = dict(enumerate(self.chars))\n",
    "        self.char2int = {ch: ii for ii, ch in self.int2char.items()}\n",
    "        \n",
    "        ## TODO: define the layers of the model\n",
    "        self.lstm = nn.LSTM(\n",
    "                input_size = len(tokens),\n",
    "                hidden_size = n_hidden,\n",
    "                num_layers = n_layers,\n",
    "                batch_first = True,\n",
    "                dropout = drop_prob\n",
    "            )\n",
    "        self.dropout = nn.Dropout(drop_prob)\n",
    "        self.linear = nn.Linear(n_hidden, len(self.chars))\n",
    "      \n",
    "    \n",
    "    def forward(self, x, hidden):\n",
    "        ''' Forward pass through the network. \n",
    "            These inputs are x, and the hidden/cell state `hidden`. '''\n",
    "                \n",
    "        ## TODO: Get the outputs and the new hidden state from the lstm\n",
    "        r_output, hidden = self.lstm(x, hidden)\n",
    "        out = self.dropout(r_output)\n",
    "        # Stack up LSTM outputs using view\n",
    "        # using contiguous to reshape the output\n",
    "        out = out.contiguous().view(-1, self.n_hidden)\n",
    "        \n",
    "        # return the final output and the hidden state\n",
    "        out = self.linear(out)\n",
    "        #print(out.size())\n",
    "        return out, hidden\n",
    "    \n",
    "    \n",
    "    def init_hidden(self, batch_size):\n",
    "        ''' Initializes hidden state '''\n",
    "        # Create two new tensors with sizes n_layers x batch_size x n_hidden,\n",
    "        # initialized to zero, for hidden state and cell state of LSTM\n",
    "        weight = next(self.parameters()).data\n",
    "        \n",
    "        if (train_on_gpu):\n",
    "            hidden = (weight.new(self.n_layers, batch_size, self.n_hidden).zero_().cuda(),\n",
    "                  weight.new(self.n_layers, batch_size, self.n_hidden).zero_().cuda())\n",
    "        else:\n",
    "            hidden = (weight.new(self.n_layers, batch_size, self.n_hidden).zero_(),\n",
    "                      weight.new(self.n_layers, batch_size, self.n_hidden).zero_())\n",
    "        \n",
    "        return hidden\n",
    "        "
   ]
  },
  {
   "attachments": {},
   "cell_type": "markdown",
   "metadata": {},
   "source": [
    "## Time to train\n",
    "\n",
    "The train function gives us the ability to set the number of epochs, the learning rate, and other parameters.\n",
    "\n",
    "Below we're using an Adam optimizer and cross entropy loss since we are looking at character class scores as output. We calculate the loss and perform backpropagation, as usual!\n",
    "\n",
    "A couple of details about training: \n",
    ">* Within the batch loop, we detach the hidden state from its history; this time setting it equal to a new *tuple* variable because an LSTM has a hidden state that is a tuple of the hidden and cell states.\n",
    "* We use [`clip_grad_norm_`](https://pytorch.org/docs/stable/_modules/torch/nn/utils/clip_grad.html) to help prevent exploding gradients."
   ]
  },
  {
   "cell_type": "code",
   "execution_count": 59,
   "metadata": {
    "collapsed": true
   },
   "outputs": [],
   "source": [
    "def train(net, data, epochs=10, batch_size=10, seq_length=50, lr=0.001, clip=5, val_frac=0.1, print_every=10):\n",
    "    ''' Training a network \n",
    "    \n",
    "        Arguments\n",
    "        ---------\n",
    "        \n",
    "        net: CharRNN network\n",
    "        data: text data to train the network\n",
    "        epochs: Number of epochs to train\n",
    "        batch_size: Number of mini-sequences per mini-batch, aka batch size\n",
    "        seq_length: Number of character steps per mini-batch\n",
    "        lr: learning rate\n",
    "        clip: gradient clipping\n",
    "        val_frac: Fraction of data to hold out for validation\n",
    "        print_every: Number of steps for printing training and validation loss\n",
    "    \n",
    "    '''\n",
    "    net.train()\n",
    "    \n",
    "    opt = torch.optim.Adam(net.parameters(), lr=lr)\n",
    "    criterion = nn.CrossEntropyLoss()\n",
    "    \n",
    "    # create training and validation data\n",
    "    val_idx = int(len(data)*(1-val_frac))\n",
    "    data, val_data = data[:val_idx], data[val_idx:]\n",
    "    \n",
    "    if(train_on_gpu):\n",
    "        net.cuda()\n",
    "    \n",
    "    counter = 0\n",
    "    n_chars = len(net.chars)\n",
    "    for e in range(epochs):\n",
    "        # initialize hidden state\n",
    "        h = net.init_hidden(batch_size)\n",
    "        \n",
    "        for x, y in get_batches(data, batch_size, seq_length):\n",
    "            counter += 1\n",
    "            \n",
    "            # One-hot encode our data and make them Torch tensors\n",
    "            x = one_hot_encode(x, n_chars)\n",
    "            inputs, targets = torch.from_numpy(x), torch.from_numpy(y)\n",
    "            \n",
    "            if(train_on_gpu):\n",
    "                inputs, targets = inputs.cuda(), targets.cuda()\n",
    "\n",
    "            # Creating new variables for the hidden state, otherwise\n",
    "            # we'd backprop through the entire training history\n",
    "            h = tuple([each.data for each in h])\n",
    "\n",
    "            # zero accumulated gradients\n",
    "            net.zero_grad()\n",
    "            \n",
    "            # get the output from the model\n",
    "            output, h = net(inputs, h)\n",
    "\n",
    "            # calculate the loss and perform backprop\n",
    "            loss = criterion(output, targets.view(batch_size*seq_length).long())\n",
    "            #print(loss)\n",
    "            loss.backward()\n",
    "            # `clip_grad_norm` helps prevent the exploding gradient problem in RNNs / LSTMs.\n",
    "            nn.utils.clip_grad_norm_(net.parameters(), clip)\n",
    "            opt.step()\n",
    "            \n",
    "            # loss stats\n",
    "            if counter % print_every == 0:\n",
    "                # Get validation loss\n",
    "                val_h = net.init_hidden(batch_size)\n",
    "                val_losses = []\n",
    "                net.eval()\n",
    "                for x, y in get_batches(val_data, batch_size, seq_length):\n",
    "                    # One-hot encode our data and make them Torch tensors\n",
    "                    x = one_hot_encode(x, n_chars)\n",
    "                    x, y = torch.from_numpy(x), torch.from_numpy(y)\n",
    "                    \n",
    "                    # Creating new variables for the hidden state, otherwise\n",
    "                    # we'd backprop through the entire training history\n",
    "                    val_h = tuple([each.data for each in val_h])\n",
    "                    \n",
    "                    inputs, targets = x, y\n",
    "                    if(train_on_gpu):\n",
    "                        inputs, targets = inputs.cuda(), targets.cuda()\n",
    "\n",
    "                    output, val_h = net(inputs, val_h)\n",
    "                    val_loss = criterion(output, targets.view(batch_size*seq_length).long())\n",
    "                \n",
    "                    val_losses.append(val_loss.item())\n",
    "                \n",
    "                net.train() # reset to train mode after iterationg through validation data\n",
    "                \n",
    "                print(\"Epoch: {}/{}...\".format(e+1, epochs),\n",
    "                      \"Step: {}...\".format(counter),\n",
    "                      \"Loss: {:.4f}...\".format(loss.item()),\n",
    "                      \"Val Loss: {:.4f}\".format(np.mean(val_losses)))"
   ]
  },
  {
   "attachments": {},
   "cell_type": "markdown",
   "metadata": {},
   "source": [
    "## Instantiating the model\n",
    "\n",
    "Now we can actually train the network. First we'll create the network itself, with some given hyperparameters. Then, define the mini-batches sizes, and start training!"
   ]
  },
  {
   "cell_type": "code",
   "execution_count": 60,
   "metadata": {
    "collapsed": true
   },
   "outputs": [
    {
     "name": "stdout",
     "output_type": "stream",
     "text": [
      "CharRNN(\n",
      "  (lstm): LSTM(83, 512, num_layers=2, batch_first=True, dropout=0.5)\n",
      "  (dropout): Dropout(p=0.5, inplace=False)\n",
      "  (linear): Linear(in_features=512, out_features=83, bias=True)\n",
      ")\n"
     ]
    }
   ],
   "source": [
    "## TODO: set your model hyperparameters\n",
    "# define and print the net\n",
    "n_hidden=512\n",
    "n_layers=2\n",
    "\n",
    "net = CharRNN(chars, n_hidden, n_layers)\n",
    "print(net)"
   ]
  },
  {
   "attachments": {},
   "cell_type": "markdown",
   "metadata": {},
   "source": [
    "### Set your training hyperparameters!"
   ]
  },
  {
   "cell_type": "code",
   "execution_count": 68,
   "metadata": {
    "collapsed": true,
    "scrolled": true
   },
   "outputs": [
    {
     "name": "stdout",
     "output_type": "stream",
     "text": [
      "Epoch: 1/10... Step: 10... Loss: 1.1552... Val Loss: 1.2509\n",
      "Epoch: 1/10... Step: 20... Loss: 1.1574... Val Loss: 1.2461\n",
      "Epoch: 1/10... Step: 30... Loss: 1.1625... Val Loss: 1.2434\n",
      "Epoch: 1/10... Step: 40... Loss: 1.1387... Val Loss: 1.2493\n",
      "Epoch: 1/10... Step: 50... Loss: 1.1428... Val Loss: 1.2436\n",
      "Epoch: 1/10... Step: 60... Loss: 1.0898... Val Loss: 1.2408\n",
      "Epoch: 1/10... Step: 70... Loss: 1.1120... Val Loss: 1.2426\n",
      "Epoch: 1/10... Step: 80... Loss: 1.1082... Val Loss: 1.2518\n",
      "Epoch: 1/10... Step: 90... Loss: 1.1389... Val Loss: 1.2475\n",
      "Epoch: 1/10... Step: 100... Loss: 1.1143... Val Loss: 1.2473\n",
      "Epoch: 1/10... Step: 110... Loss: 1.1117... Val Loss: 1.2513\n",
      "Epoch: 1/10... Step: 120... Loss: 1.1053... Val Loss: 1.2513\n",
      "Epoch: 1/10... Step: 130... Loss: 1.1300... Val Loss: 1.2471\n",
      "Epoch: 2/10... Step: 140... Loss: 1.1967... Val Loss: 1.2439\n",
      "Epoch: 2/10... Step: 150... Loss: 1.1259... Val Loss: 1.2455\n",
      "Epoch: 2/10... Step: 160... Loss: 1.1378... Val Loss: 1.2445\n",
      "Epoch: 2/10... Step: 170... Loss: 1.1431... Val Loss: 1.2428\n",
      "Epoch: 2/10... Step: 180... Loss: 1.1092... Val Loss: 1.2477\n",
      "Epoch: 2/10... Step: 190... Loss: 1.0930... Val Loss: 1.2434\n",
      "Epoch: 2/10... Step: 200... Loss: 1.0943... Val Loss: 1.2501\n",
      "Epoch: 2/10... Step: 210... Loss: 1.1153... Val Loss: 1.2445\n",
      "Epoch: 2/10... Step: 220... Loss: 1.1036... Val Loss: 1.2455\n",
      "Epoch: 2/10... Step: 230... Loss: 1.1077... Val Loss: 1.2435\n",
      "Epoch: 2/10... Step: 240... Loss: 1.1212... Val Loss: 1.2462\n",
      "Epoch: 2/10... Step: 250... Loss: 1.1007... Val Loss: 1.2508\n",
      "Epoch: 2/10... Step: 260... Loss: 1.0926... Val Loss: 1.2520\n",
      "Epoch: 2/10... Step: 270... Loss: 1.1473... Val Loss: 1.2504\n",
      "Epoch: 3/10... Step: 280... Loss: 1.0977... Val Loss: 1.2505\n",
      "Epoch: 3/10... Step: 290... Loss: 1.1123... Val Loss: 1.2507\n",
      "Epoch: 3/10... Step: 300... Loss: 1.1139... Val Loss: 1.2443\n",
      "Epoch: 3/10... Step: 310... Loss: 1.0982... Val Loss: 1.2425\n",
      "Epoch: 3/10... Step: 320... Loss: 1.0847... Val Loss: 1.2474\n",
      "Epoch: 3/10... Step: 330... Loss: 1.0975... Val Loss: 1.2430\n",
      "Epoch: 3/10... Step: 340... Loss: 1.1339... Val Loss: 1.2440\n",
      "Epoch: 3/10... Step: 350... Loss: 1.1102... Val Loss: 1.2422\n",
      "Epoch: 3/10... Step: 360... Loss: 1.0751... Val Loss: 1.2453\n",
      "Epoch: 3/10... Step: 370... Loss: 1.0949... Val Loss: 1.2437\n",
      "Epoch: 3/10... Step: 380... Loss: 1.1296... Val Loss: 1.2458\n",
      "Epoch: 3/10... Step: 390... Loss: 1.1059... Val Loss: 1.2532\n",
      "Epoch: 3/10... Step: 400... Loss: 1.0838... Val Loss: 1.2525\n",
      "Epoch: 3/10... Step: 410... Loss: 1.1175... Val Loss: 1.2491\n",
      "Epoch: 4/10... Step: 420... Loss: 1.1059... Val Loss: 1.2508\n",
      "Epoch: 4/10... Step: 430... Loss: 1.0970... Val Loss: 1.2449\n",
      "Epoch: 4/10... Step: 440... Loss: 1.1253... Val Loss: 1.2429\n",
      "Epoch: 4/10... Step: 450... Loss: 1.0772... Val Loss: 1.2484\n",
      "Epoch: 4/10... Step: 460... Loss: 1.0772... Val Loss: 1.2486\n",
      "Epoch: 4/10... Step: 470... Loss: 1.1195... Val Loss: 1.2458\n",
      "Epoch: 4/10... Step: 480... Loss: 1.1294... Val Loss: 1.2469\n",
      "Epoch: 4/10... Step: 490... Loss: 1.1287... Val Loss: 1.2395\n",
      "Epoch: 4/10... Step: 500... Loss: 1.1284... Val Loss: 1.2429\n",
      "Epoch: 4/10... Step: 510... Loss: 1.1067... Val Loss: 1.2417\n",
      "Epoch: 4/10... Step: 520... Loss: 1.1034... Val Loss: 1.2452\n",
      "Epoch: 4/10... Step: 530... Loss: 1.1104... Val Loss: 1.2529\n",
      "Epoch: 4/10... Step: 540... Loss: 1.0779... Val Loss: 1.2526\n",
      "Epoch: 4/10... Step: 550... Loss: 1.1182... Val Loss: 1.2466\n",
      "Epoch: 5/10... Step: 560... Loss: 1.0919... Val Loss: 1.2467\n",
      "Epoch: 5/10... Step: 570... Loss: 1.1087... Val Loss: 1.2453\n",
      "Epoch: 5/10... Step: 580... Loss: 1.0960... Val Loss: 1.2414\n",
      "Epoch: 5/10... Step: 590... Loss: 1.0939... Val Loss: 1.2422\n",
      "Epoch: 5/10... Step: 600... Loss: 1.0859... Val Loss: 1.2461\n",
      "Epoch: 5/10... Step: 610... Loss: 1.0860... Val Loss: 1.2426\n",
      "Epoch: 5/10... Step: 620... Loss: 1.1119... Val Loss: 1.2427\n",
      "Epoch: 5/10... Step: 630... Loss: 1.1192... Val Loss: 1.2343\n",
      "Epoch: 5/10... Step: 640... Loss: 1.0899... Val Loss: 1.2445\n",
      "Epoch: 5/10... Step: 650... Loss: 1.1036... Val Loss: 1.2422\n",
      "Epoch: 5/10... Step: 660... Loss: 1.0890... Val Loss: 1.2424\n",
      "Epoch: 5/10... Step: 670... Loss: 1.0975... Val Loss: 1.2489\n",
      "Epoch: 5/10... Step: 680... Loss: 1.1136... Val Loss: 1.2519\n",
      "Epoch: 5/10... Step: 690... Loss: 1.1067... Val Loss: 1.2472\n",
      "Epoch: 6/10... Step: 700... Loss: 1.1086... Val Loss: 1.2550\n",
      "Epoch: 6/10... Step: 710... Loss: 1.0927... Val Loss: 1.2445\n",
      "Epoch: 6/10... Step: 720... Loss: 1.1001... Val Loss: 1.2402\n",
      "Epoch: 6/10... Step: 730... Loss: 1.0936... Val Loss: 1.2415\n",
      "Epoch: 6/10... Step: 740... Loss: 1.0808... Val Loss: 1.2476\n",
      "Epoch: 6/10... Step: 750... Loss: 1.0991... Val Loss: 1.2433\n",
      "Epoch: 6/10... Step: 760... Loss: 1.1186... Val Loss: 1.2431\n",
      "Epoch: 6/10... Step: 770... Loss: 1.0995... Val Loss: 1.2358\n",
      "Epoch: 6/10... Step: 780... Loss: 1.0953... Val Loss: 1.2442\n",
      "Epoch: 6/10... Step: 790... Loss: 1.0846... Val Loss: 1.2489\n",
      "Epoch: 6/10... Step: 800... Loss: 1.1046... Val Loss: 1.2414\n",
      "Epoch: 6/10... Step: 810... Loss: 1.0843... Val Loss: 1.2508\n",
      "Epoch: 6/10... Step: 820... Loss: 1.0576... Val Loss: 1.2507\n",
      "Epoch: 6/10... Step: 830... Loss: 1.1000... Val Loss: 1.2449\n",
      "Epoch: 7/10... Step: 840... Loss: 1.0778... Val Loss: 1.2498\n",
      "Epoch: 7/10... Step: 850... Loss: 1.0858... Val Loss: 1.2486\n",
      "Epoch: 7/10... Step: 860... Loss: 1.0928... Val Loss: 1.2423\n",
      "Epoch: 7/10... Step: 870... Loss: 1.0858... Val Loss: 1.2444\n",
      "Epoch: 7/10... Step: 880... Loss: 1.0947... Val Loss: 1.2468\n",
      "Epoch: 7/10... Step: 890... Loss: 1.1086... Val Loss: 1.2459\n",
      "Epoch: 7/10... Step: 900... Loss: 1.1062... Val Loss: 1.2499\n",
      "Epoch: 7/10... Step: 910... Loss: 1.0795... Val Loss: 1.2400\n",
      "Epoch: 7/10... Step: 920... Loss: 1.0996... Val Loss: 1.2512\n",
      "Epoch: 7/10... Step: 930... Loss: 1.0869... Val Loss: 1.2436\n",
      "Epoch: 7/10... Step: 940... Loss: 1.0854... Val Loss: 1.2425\n",
      "Epoch: 7/10... Step: 950... Loss: 1.0982... Val Loss: 1.2476\n",
      "Epoch: 7/10... Step: 960... Loss: 1.0931... Val Loss: 1.2488\n",
      "Epoch: 7/10... Step: 970... Loss: 1.1112... Val Loss: 1.2431\n",
      "Epoch: 8/10... Step: 980... Loss: 1.0735... Val Loss: 1.2491\n",
      "Epoch: 8/10... Step: 990... Loss: 1.0804... Val Loss: 1.2483\n",
      "Epoch: 8/10... Step: 1000... Loss: 1.0842... Val Loss: 1.2406\n",
      "Epoch: 8/10... Step: 1010... Loss: 1.0965... Val Loss: 1.2421\n",
      "Epoch: 8/10... Step: 1020... Loss: 1.0971... Val Loss: 1.2466\n",
      "Epoch: 8/10... Step: 1030... Loss: 1.0851... Val Loss: 1.2528\n",
      "Epoch: 8/10... Step: 1040... Loss: 1.0907... Val Loss: 1.2497\n",
      "Epoch: 8/10... Step: 1050... Loss: 1.0819... Val Loss: 1.2399\n",
      "Epoch: 8/10... Step: 1060... Loss: 1.0739... Val Loss: 1.2514\n",
      "Epoch: 8/10... Step: 1070... Loss: 1.0983... Val Loss: 1.2526\n",
      "Epoch: 8/10... Step: 1080... Loss: 1.0777... Val Loss: 1.2391\n",
      "Epoch: 8/10... Step: 1090... Loss: 1.0802... Val Loss: 1.2458\n",
      "Epoch: 8/10... Step: 1100... Loss: 1.0708... Val Loss: 1.2477\n",
      "Epoch: 8/10... Step: 1110... Loss: 1.0851... Val Loss: 1.2436\n",
      "Epoch: 9/10... Step: 1120... Loss: 1.0677... Val Loss: 1.2498\n",
      "Epoch: 9/10... Step: 1130... Loss: 1.0966... Val Loss: 1.2511\n",
      "Epoch: 9/10... Step: 1140... Loss: 1.0999... Val Loss: 1.2402\n",
      "Epoch: 9/10... Step: 1150... Loss: 1.1063... Val Loss: 1.2441\n",
      "Epoch: 9/10... Step: 1160... Loss: 1.0730... Val Loss: 1.2495\n",
      "Epoch: 9/10... Step: 1170... Loss: 1.0887... Val Loss: 1.2513\n",
      "Epoch: 9/10... Step: 1180... Loss: 1.0789... Val Loss: 1.2519\n",
      "Epoch: 9/10... Step: 1190... Loss: 1.1039... Val Loss: 1.2500\n",
      "Epoch: 9/10... Step: 1200... Loss: 1.0833... Val Loss: 1.2487\n",
      "Epoch: 9/10... Step: 1210... Loss: 1.0722... Val Loss: 1.2480\n",
      "Epoch: 9/10... Step: 1220... Loss: 1.0832... Val Loss: 1.2437\n",
      "Epoch: 9/10... Step: 1230... Loss: 1.0667... Val Loss: 1.2512\n",
      "Epoch: 9/10... Step: 1240... Loss: 1.0677... Val Loss: 1.2466\n",
      "Epoch: 9/10... Step: 1250... Loss: 1.1011... Val Loss: 1.2449\n",
      "Epoch: 10/10... Step: 1260... Loss: 1.0753... Val Loss: 1.2495\n",
      "Epoch: 10/10... Step: 1270... Loss: 1.0923... Val Loss: 1.2518\n",
      "Epoch: 10/10... Step: 1280... Loss: 1.1041... Val Loss: 1.2540\n",
      "Epoch: 10/10... Step: 1290... Loss: 1.0921... Val Loss: 1.2499\n",
      "Epoch: 10/10... Step: 1300... Loss: 1.0728... Val Loss: 1.2408\n",
      "Epoch: 10/10... Step: 1310... Loss: 1.0970... Val Loss: 1.2478\n",
      "Epoch: 10/10... Step: 1320... Loss: 1.0667... Val Loss: 1.2510\n",
      "Epoch: 10/10... Step: 1330... Loss: 1.0545... Val Loss: 1.2512\n",
      "Epoch: 10/10... Step: 1340... Loss: 1.0678... Val Loss: 1.2521\n",
      "Epoch: 10/10... Step: 1350... Loss: 1.0622... Val Loss: 1.2453\n",
      "Epoch: 10/10... Step: 1360... Loss: 1.0717... Val Loss: 1.2467\n",
      "Epoch: 10/10... Step: 1370... Loss: 1.0587... Val Loss: 1.2458\n",
      "Epoch: 10/10... Step: 1380... Loss: 1.1039... Val Loss: 1.2433\n",
      "Epoch: 10/10... Step: 1390... Loss: 1.1363... Val Loss: 1.2434\n"
     ]
    }
   ],
   "source": [
    "batch_size = 128\n",
    "seq_length = 100\n",
    "n_epochs =  10 # start small if you are just testing initial behavior\n",
    "\n",
    "# train the model\n",
    "train(net, encoded, epochs=n_epochs, batch_size=batch_size, seq_length=seq_length, lr=0.001, print_every=10)"
   ]
  },
  {
   "attachments": {},
   "cell_type": "markdown",
   "metadata": {},
   "source": [
    "## Getting the best model\n",
    "\n",
    "To set your hyperparameters to get the best performance, you'll want to watch the training and validation losses. If your training loss is much lower than the validation loss, you're overfitting. Increase regularization (more dropout) or use a smaller network. If the training and validation losses are close, you're underfitting so you can increase the size of the network."
   ]
  },
  {
   "attachments": {},
   "cell_type": "markdown",
   "metadata": {},
   "source": [
    "## Hyperparameters\n",
    "\n",
    "Here are the hyperparameters for the network.\n",
    "\n",
    "In defining the model:\n",
    "* `n_hidden` - The number of units in the hidden layers.\n",
    "* `n_layers` - Number of hidden LSTM layers to use.\n",
    "\n",
    "We assume that dropout probability and learning rate will be kept at the default, in this example.\n",
    "\n",
    "And in training:\n",
    "* `batch_size` - Number of sequences running through the network in one pass.\n",
    "* `seq_length` - Number of characters in the sequence the network is trained on. Larger is better typically, the network will learn more long range dependencies. But it takes longer to train. 100 is typically a good number here.\n",
    "* `lr` - Learning rate for training\n",
    "\n",
    "Here's some good advice from Andrej Karpathy on training the network. I'm going to copy it in here for your benefit, but also link to [where it originally came from](https://github.com/karpathy/char-rnn#tips-and-tricks).\n",
    "\n",
    "> ## Tips and Tricks\n",
    "\n",
    ">### Monitoring Validation Loss vs. Training Loss\n",
    ">If you're somewhat new to Machine Learning or Neural Networks it can take a bit of expertise to get good models. The most important quantity to keep track of is the difference between your training loss (printed during training) and the validation loss (printed once in a while when the RNN is run on the validation data (by default every 1000 iterations)). In particular:\n",
    "\n",
    "> - If your training loss is much lower than validation loss then this means the network might be **overfitting**. Solutions to this are to decrease your network size, or to increase dropout. For example you could try dropout of 0.5 and so on.\n",
    "> - If your training/validation loss are about equal then your model is **underfitting**. Increase the size of your model (either number of layers or the raw number of neurons per layer)\n",
    "\n",
    "> ### Approximate number of parameters\n",
    "\n",
    "> The two most important parameters that control the model are `n_hidden` and `n_layers`. I would advise that you always use `n_layers` of either 2/3. The `n_hidden` can be adjusted based on how much data you have. The two important quantities to keep track of here are:\n",
    "\n",
    "> - The number of parameters in your model. This is printed when you start training.\n",
    "> - The size of your dataset. 1MB file is approximately 1 million characters.\n",
    "\n",
    ">These two should be about the same order of magnitude. It's a little tricky to tell. Here are some examples:\n",
    "\n",
    "> - I have a 100MB dataset and I'm using the default parameter settings (which currently print 150K parameters). My data size is significantly larger (100 mil >> 0.15 mil), so I expect to heavily underfit. I am thinking I can comfortably afford to make `n_hidden` larger.\n",
    "> - I have a 10MB dataset and running a 10 million parameter model. I'm slightly nervous and I'm carefully monitoring my validation loss. If it's larger than my training loss then I may want to try to increase dropout a bit and see if that helps the validation loss.\n",
    "\n",
    "> ### Best models strategy\n",
    "\n",
    ">The winning strategy to obtaining very good models (if you have the compute time) is to always err on making the network larger (as large as you're willing to wait for it to compute) and then try different dropout values (between 0,1). Whatever model has the best validation performance (the loss, written in the checkpoint filename, low is good) is the one you should use in the end.\n",
    "\n",
    ">It is very common in deep learning to run many different models with many different hyperparameter settings, and in the end take whatever checkpoint gave the best validation performance.\n",
    "\n",
    ">By the way, the size of your training and validation splits are also parameters. Make sure you have a decent amount of data in your validation set or otherwise the validation performance will be noisy and not very informative."
   ]
  },
  {
   "attachments": {},
   "cell_type": "markdown",
   "metadata": {},
   "source": [
    "## Checkpoint\n",
    "\n",
    "After training, we'll save the model so we can load it again later if we need too. Here I'm saving the parameters needed to create the same architecture, the hidden layer hyperparameters and the text characters."
   ]
  },
  {
   "cell_type": "code",
   "execution_count": 70,
   "metadata": {
    "collapsed": true
   },
   "outputs": [],
   "source": [
    "# change the name, for saving multiple files\n",
    "model_name = 'rnn_x_epoch.net'\n",
    "\n",
    "checkpoint = {'n_hidden': net.n_hidden,\n",
    "              'n_layers': net.n_layers,\n",
    "              'state_dict': net.state_dict(),\n",
    "              'tokens': net.chars}\n",
    "\n",
    "with open(model_name, 'wb') as f:\n",
    "    torch.save(checkpoint, f)"
   ]
  },
  {
   "attachments": {},
   "cell_type": "markdown",
   "metadata": {},
   "source": [
    "---\n",
    "## Making Predictions\n",
    "\n",
    "Now that the model is trained, we'll want to sample from it and make predictions about next characters! To sample, we pass in a character and have the network predict the next character. Then we take that character, pass it back in, and get another predicted character. Just keep doing this and you'll generate a bunch of text!\n",
    "\n",
    "### A note on the `predict`  function\n",
    "\n",
    "The output of our RNN is from a fully-connected layer and it outputs a **distribution of next-character scores**.\n",
    "\n",
    "> To actually get the next character, we apply a softmax function, which gives us a *probability* distribution that we can then sample to predict the next character.\n",
    "\n",
    "### Top K sampling\n",
    "\n",
    "Our predictions come from a categorical probability distribution over all the possible characters. We can make the sample text and make it more reasonable to handle (with less variables) by only considering some $K$ most probable characters. This will prevent the network from giving us completely absurd characters while allowing it to introduce some noise and randomness into the sampled text. Read more about [topk, here](https://pytorch.org/docs/stable/torch.html#torch.topk).\n"
   ]
  },
  {
   "cell_type": "code",
   "execution_count": 69,
   "metadata": {
    "collapsed": true
   },
   "outputs": [],
   "source": [
    "def predict(net, char, h=None, top_k=None):\n",
    "        ''' Given a character, predict the next character.\n",
    "            Returns the predicted character and the hidden state.\n",
    "        '''\n",
    "        \n",
    "        # tensor inputs\n",
    "        x = np.array([[net.char2int[char]]])\n",
    "        x = one_hot_encode(x, len(net.chars))\n",
    "        inputs = torch.from_numpy(x)\n",
    "        \n",
    "        if(train_on_gpu):\n",
    "            inputs = inputs.cuda()\n",
    "        \n",
    "        # detach hidden state from history\n",
    "        h = tuple([each.data for each in h])\n",
    "        # get the output of the model\n",
    "        out, h = net(inputs, h)\n",
    "\n",
    "        # get the character probabilities\n",
    "        p = F.softmax(out, dim=1).data\n",
    "        if(train_on_gpu):\n",
    "            p = p.cpu() # move to cpu\n",
    "        \n",
    "        # get top characters\n",
    "        if top_k is None:\n",
    "            top_ch = np.arange(len(net.chars))\n",
    "        else:\n",
    "            p, top_ch = p.topk(top_k)\n",
    "            top_ch = top_ch.numpy().squeeze()\n",
    "        \n",
    "        # select the likely next character with some element of randomness\n",
    "        p = p.numpy().squeeze()\n",
    "        char = np.random.choice(top_ch, p=p/p.sum())\n",
    "        \n",
    "        # return the encoded value of the predicted char and the hidden state\n",
    "        return net.int2char[char], h"
   ]
  },
  {
   "attachments": {},
   "cell_type": "markdown",
   "metadata": {},
   "source": [
    "### Priming and generating text \n",
    "\n",
    "Typically you'll want to prime the network so you can build up a hidden state. Otherwise the network will start out generating characters at random. In general the first bunch of characters will be a little rough since it hasn't built up a long history of characters to predict from."
   ]
  },
  {
   "cell_type": "code",
   "execution_count": 71,
   "metadata": {
    "collapsed": true
   },
   "outputs": [],
   "source": [
    "def sample(net, size, prime='The', top_k=None):\n",
    "        \n",
    "    if(train_on_gpu):\n",
    "        net.cuda()\n",
    "    else:\n",
    "        net.cpu()\n",
    "    \n",
    "    net.eval() # eval mode\n",
    "    \n",
    "    # First off, run through the prime characters\n",
    "    chars = [ch for ch in prime]\n",
    "    h = net.init_hidden(1)\n",
    "    for ch in prime:\n",
    "        char, h = predict(net, ch, h, top_k=top_k)\n",
    "\n",
    "    chars.append(char)\n",
    "    \n",
    "    # Now pass in the previous character and get a new one\n",
    "    for ii in range(size):\n",
    "        char, h = predict(net, chars[-1], h, top_k=top_k)\n",
    "        chars.append(char)\n",
    "\n",
    "    return ''.join(chars)"
   ]
  },
  {
   "cell_type": "code",
   "execution_count": 72,
   "metadata": {
    "collapsed": true
   },
   "outputs": [
    {
     "name": "stdout",
     "output_type": "stream",
     "text": [
      "Anna's friend heard, but\n",
      "already beginning for their hands. But in the preception she\n",
      "had always sisted of the same attitude to the carriage,\n",
      "and at first struggled in, whom he had stood at the side of the\n",
      "carriage at the cridicious, and to set him in the door. \"I have no source, it would be\n",
      "absorbing it wonderful to her, always tried at any clear of the\n",
      "more and more at all still.\n",
      "\n",
      "The princess can did, at all, but that we have an and that happy from her\n",
      "all the peasantss is a mother.\n",
      "And this must come and say through, I'm going over a certain companion, to be\n",
      "too and must be so staying for you and with his own chair; there's no complication of\n",
      "me, we have to do with him. Though to see her intellectual, tears from\n",
      "them, and he would say nothing.\"\n",
      "\n",
      "\"Anno,\" he said, addressing Alexey Alexandrovitch, stood on the\n",
      "stairs about the point of that conversation of the strength, while the\n",
      "summ first office was a sort of significance of a corner, he had to be\n",
      "tears, and to be an answer: and that in\n"
     ]
    }
   ],
   "source": [
    "print(sample(net, 1000, prime='Anna', top_k=5))"
   ]
  },
  {
   "attachments": {},
   "cell_type": "markdown",
   "metadata": {},
   "source": [
    "## Loading a checkpoint"
   ]
  },
  {
   "cell_type": "code",
   "execution_count": 73,
   "metadata": {
    "collapsed": true
   },
   "outputs": [
    {
     "data": {
      "text/plain": [
       "<All keys matched successfully>"
      ]
     },
     "execution_count": 73,
     "metadata": {},
     "output_type": "execute_result"
    }
   ],
   "source": [
    "# Here we have loaded in a model that trained over 20 epochs `rnn_20_epoch.net`\n",
    "with open('rnn_x_epoch.net', 'rb') as f:\n",
    "    checkpoint = torch.load(f)\n",
    "    \n",
    "loaded = CharRNN(checkpoint['tokens'], n_hidden=checkpoint['n_hidden'], n_layers=checkpoint['n_layers'])\n",
    "loaded.load_state_dict(checkpoint['state_dict'])"
   ]
  },
  {
   "cell_type": "code",
   "execution_count": 74,
   "metadata": {
    "collapsed": true
   },
   "outputs": [
    {
     "name": "stdout",
     "output_type": "stream",
     "text": [
      "And Levin said\n",
      "something. He crassed the sound of shame, he covered them through his face\n",
      "of his hands of his waistcoat and steps with the braised at the\n",
      "staget shooting for the sofa water, with his cheeks were all stretched\n",
      "out a governess's acquaintances. She could not say it without those\n",
      "stat of parts of the party, and wend to be in the property of such counces and the\n",
      "minds of his forest. And the sould of all the crowd of proporation of\n",
      "the people saw the forest the same answer, the cloth was struck\n",
      "her and her soul.\n",
      "\n",
      "\"If there have stood a state of something and answer.\"\n",
      "\n",
      "\"All right...\"\n",
      "\n",
      "\"I've been at home! You're not dear with me with your precision of the people's a\n",
      "little burn fat officer.\"\n",
      "\n",
      "Seventerng if the same point, where she was so still a man and would\n",
      "conversate meet.\n",
      "\n",
      "She was satisfied with her, and with a sund sense of significance of him to\n",
      "think of her own heart and her father's simple-confidence\n",
      "with such point, but he did not love him, and that he saw this\n",
      "something but that the charm of her sister at the pieces of his weart\n",
      "would have seen her and a minute had no previous confidences of\n",
      "himself at that instant, a spiritual\n",
      "condition, however. This was the conception of some party he had not the\n",
      "clather, and talked of it.\n",
      "\n",
      "The mother, who spectated the most condition, that some of through\n",
      "strength he was not an instinated arms as so that he would have to say,\n",
      "and as he came to his brother, and there were completely teering in husband\n",
      "and son successful at home, and those charming hands on the coats\n",
      "together himself for an instant which had been tried to say to him without\n",
      "a supper. And it was so still more to seem about those sorts; there\n",
      "was not to succeed, the contlast. All the conversations she could not\n",
      "speak, and that she had to beg the conviction of his self-conception.\n",
      "\n",
      "\"Our professor of all the positions of their maresh had taken to more arrangement\n",
      "as the old prince and happy about a lady who had been buny on\n",
      "ten ordate sounds: it was not on her fam\n"
     ]
    }
   ],
   "source": [
    "# Sample using a loaded model\n",
    "print(sample(loaded, 2000, top_k=5, prime=\"And Levin said\"))"
   ]
  },
  {
   "cell_type": "code",
   "execution_count": null,
   "metadata": {
    "collapsed": true
   },
   "outputs": [],
   "source": []
  }
 ],
 "metadata": {
  "kernelspec": {
   "display_name": "Python [default]",
   "language": "python",
   "name": "python3"
  },
  "language_info": {
   "codemirror_mode": {
    "name": "ipython",
    "version": 3
   },
   "file_extension": ".py",
   "mimetype": "text/x-python",
   "name": "python",
   "nbconvert_exporter": "python",
   "pygments_lexer": "ipython3",
   "version": "3.9.0"
  }
 },
 "nbformat": 4,
 "nbformat_minor": 2
}
